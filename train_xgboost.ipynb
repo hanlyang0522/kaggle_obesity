{
 "cells": [
  {
   "cell_type": "code",
   "execution_count": 1,
   "metadata": {},
   "outputs": [],
   "source": [
    "import os\n",
    "import pandas as pd\n",
    "import numpy as np\n",
    "import warnings\n",
    "import matplotlib.pyplot as plt\n",
    "import wandb\n",
    "from wandb.integration.xgboost import WandbCallback\n",
    "\n",
    "from sklearn.model_selection import train_test_split\n",
    "from sklearn.preprocessing import LabelEncoder\n",
    "from sklearn.metrics import confusion_matrix, accuracy_score, classification_report\n",
    "\n",
    "import seaborn as sns\n",
    "\n",
    "from xgboost import plot_importance, plot_tree\n",
    "from xgboost import XGBClassifier\n",
    "\n",
    "pd.set_option('display.max_columns', None)\n",
    "pd.set_option('display.max_rows', 40)\n",
    "warnings.filterwarnings('ignore')"
   ]
  },
  {
   "cell_type": "markdown",
   "metadata": {},
   "source": [
    "<font color=yellow>\n",
    "1. data 불러오기\n",
    "</font>"
   ]
  },
  {
   "cell_type": "code",
   "execution_count": 58,
   "metadata": {},
   "outputs": [
    {
     "data": {
      "text/html": [
       "<div>\n",
       "<style scoped>\n",
       "    .dataframe tbody tr th:only-of-type {\n",
       "        vertical-align: middle;\n",
       "    }\n",
       "\n",
       "    .dataframe tbody tr th {\n",
       "        vertical-align: top;\n",
       "    }\n",
       "\n",
       "    .dataframe thead th {\n",
       "        text-align: right;\n",
       "    }\n",
       "</style>\n",
       "<table border=\"1\" class=\"dataframe\">\n",
       "  <thead>\n",
       "    <tr style=\"text-align: right;\">\n",
       "      <th></th>\n",
       "      <th>id</th>\n",
       "      <th>Gender</th>\n",
       "      <th>Age</th>\n",
       "      <th>Height</th>\n",
       "      <th>Weight</th>\n",
       "      <th>family_history_with_overweight</th>\n",
       "      <th>FAVC</th>\n",
       "      <th>FCVC</th>\n",
       "      <th>NCP</th>\n",
       "      <th>CAEC</th>\n",
       "      <th>SMOKE</th>\n",
       "      <th>CH2O</th>\n",
       "      <th>SCC</th>\n",
       "      <th>FAF</th>\n",
       "      <th>TUE</th>\n",
       "      <th>CALC</th>\n",
       "      <th>MTRANS</th>\n",
       "      <th>NObeyesdad</th>\n",
       "    </tr>\n",
       "  </thead>\n",
       "  <tbody>\n",
       "    <tr>\n",
       "      <th>0</th>\n",
       "      <td>0</td>\n",
       "      <td>Male</td>\n",
       "      <td>24.443011</td>\n",
       "      <td>1.699998</td>\n",
       "      <td>81.669950</td>\n",
       "      <td>yes</td>\n",
       "      <td>yes</td>\n",
       "      <td>2.000000</td>\n",
       "      <td>2.983297</td>\n",
       "      <td>Sometimes</td>\n",
       "      <td>no</td>\n",
       "      <td>2.763573</td>\n",
       "      <td>no</td>\n",
       "      <td>0.000000</td>\n",
       "      <td>0.976473</td>\n",
       "      <td>Sometimes</td>\n",
       "      <td>Public_Transportation</td>\n",
       "      <td>Overweight_Level_II</td>\n",
       "    </tr>\n",
       "    <tr>\n",
       "      <th>1</th>\n",
       "      <td>1</td>\n",
       "      <td>Female</td>\n",
       "      <td>18.000000</td>\n",
       "      <td>1.560000</td>\n",
       "      <td>57.000000</td>\n",
       "      <td>yes</td>\n",
       "      <td>yes</td>\n",
       "      <td>2.000000</td>\n",
       "      <td>3.000000</td>\n",
       "      <td>Frequently</td>\n",
       "      <td>no</td>\n",
       "      <td>2.000000</td>\n",
       "      <td>no</td>\n",
       "      <td>1.000000</td>\n",
       "      <td>1.000000</td>\n",
       "      <td>no</td>\n",
       "      <td>Automobile</td>\n",
       "      <td>Normal_Weight</td>\n",
       "    </tr>\n",
       "    <tr>\n",
       "      <th>2</th>\n",
       "      <td>2</td>\n",
       "      <td>Female</td>\n",
       "      <td>18.000000</td>\n",
       "      <td>1.711460</td>\n",
       "      <td>50.165754</td>\n",
       "      <td>yes</td>\n",
       "      <td>yes</td>\n",
       "      <td>1.880534</td>\n",
       "      <td>1.411685</td>\n",
       "      <td>Sometimes</td>\n",
       "      <td>no</td>\n",
       "      <td>1.910378</td>\n",
       "      <td>no</td>\n",
       "      <td>0.866045</td>\n",
       "      <td>1.673584</td>\n",
       "      <td>no</td>\n",
       "      <td>Public_Transportation</td>\n",
       "      <td>Insufficient_Weight</td>\n",
       "    </tr>\n",
       "    <tr>\n",
       "      <th>3</th>\n",
       "      <td>3</td>\n",
       "      <td>Female</td>\n",
       "      <td>20.952737</td>\n",
       "      <td>1.710730</td>\n",
       "      <td>131.274851</td>\n",
       "      <td>yes</td>\n",
       "      <td>yes</td>\n",
       "      <td>3.000000</td>\n",
       "      <td>3.000000</td>\n",
       "      <td>Sometimes</td>\n",
       "      <td>no</td>\n",
       "      <td>1.674061</td>\n",
       "      <td>no</td>\n",
       "      <td>1.467863</td>\n",
       "      <td>0.780199</td>\n",
       "      <td>Sometimes</td>\n",
       "      <td>Public_Transportation</td>\n",
       "      <td>Obesity_Type_III</td>\n",
       "    </tr>\n",
       "    <tr>\n",
       "      <th>4</th>\n",
       "      <td>4</td>\n",
       "      <td>Male</td>\n",
       "      <td>31.641081</td>\n",
       "      <td>1.914186</td>\n",
       "      <td>93.798055</td>\n",
       "      <td>yes</td>\n",
       "      <td>yes</td>\n",
       "      <td>2.679664</td>\n",
       "      <td>1.971472</td>\n",
       "      <td>Sometimes</td>\n",
       "      <td>no</td>\n",
       "      <td>1.979848</td>\n",
       "      <td>no</td>\n",
       "      <td>1.967973</td>\n",
       "      <td>0.931721</td>\n",
       "      <td>Sometimes</td>\n",
       "      <td>Public_Transportation</td>\n",
       "      <td>Overweight_Level_II</td>\n",
       "    </tr>\n",
       "  </tbody>\n",
       "</table>\n",
       "</div>"
      ],
      "text/plain": [
       "   id  Gender        Age    Height      Weight family_history_with_overweight  \\\n",
       "0   0    Male  24.443011  1.699998   81.669950                            yes   \n",
       "1   1  Female  18.000000  1.560000   57.000000                            yes   \n",
       "2   2  Female  18.000000  1.711460   50.165754                            yes   \n",
       "3   3  Female  20.952737  1.710730  131.274851                            yes   \n",
       "4   4    Male  31.641081  1.914186   93.798055                            yes   \n",
       "\n",
       "  FAVC      FCVC       NCP        CAEC SMOKE      CH2O SCC       FAF  \\\n",
       "0  yes  2.000000  2.983297   Sometimes    no  2.763573  no  0.000000   \n",
       "1  yes  2.000000  3.000000  Frequently    no  2.000000  no  1.000000   \n",
       "2  yes  1.880534  1.411685   Sometimes    no  1.910378  no  0.866045   \n",
       "3  yes  3.000000  3.000000   Sometimes    no  1.674061  no  1.467863   \n",
       "4  yes  2.679664  1.971472   Sometimes    no  1.979848  no  1.967973   \n",
       "\n",
       "        TUE       CALC                 MTRANS           NObeyesdad  \n",
       "0  0.976473  Sometimes  Public_Transportation  Overweight_Level_II  \n",
       "1  1.000000         no             Automobile        Normal_Weight  \n",
       "2  1.673584         no  Public_Transportation  Insufficient_Weight  \n",
       "3  0.780199  Sometimes  Public_Transportation     Obesity_Type_III  \n",
       "4  0.931721  Sometimes  Public_Transportation  Overweight_Level_II  "
      ]
     },
     "execution_count": 58,
     "metadata": {},
     "output_type": "execute_result"
    }
   ],
   "source": [
    "class cfg:\n",
    "    data_path = './data'\n",
    "\n",
    "df_train = pd.read_csv(os.path.join(cfg.data_path, 'train.csv'))\n",
    "df_test = pd.read_csv(os.path.join(cfg.data_path, 'test.csv'))\n",
    "\n",
    "df_train.head()"
   ]
  },
  {
   "cell_type": "markdown",
   "metadata": {},
   "source": [
    "<font color=yellow>\n",
    "2. 전처리 및 데이터 확인\n",
    "</font>"
   ]
  },
  {
   "cell_type": "code",
   "execution_count": 59,
   "metadata": {},
   "outputs": [
    {
     "name": "stdout",
     "output_type": "stream",
     "text": [
      "<class 'pandas.core.frame.DataFrame'>\n",
      "RangeIndex: 20758 entries, 0 to 20757\n",
      "Data columns (total 18 columns):\n",
      " #   Column                          Non-Null Count  Dtype  \n",
      "---  ------                          --------------  -----  \n",
      " 0   id                              20758 non-null  int64  \n",
      " 1   Gender                          20758 non-null  object \n",
      " 2   Age                             20758 non-null  float64\n",
      " 3   Height                          20758 non-null  float64\n",
      " 4   Weight                          20758 non-null  float64\n",
      " 5   family_history_with_overweight  20758 non-null  object \n",
      " 6   FAVC                            20758 non-null  object \n",
      " 7   FCVC                            20758 non-null  float64\n",
      " 8   NCP                             20758 non-null  float64\n",
      " 9   CAEC                            20758 non-null  object \n",
      " 10  SMOKE                           20758 non-null  object \n",
      " 11  CH2O                            20758 non-null  float64\n",
      " 12  SCC                             20758 non-null  object \n",
      " 13  FAF                             20758 non-null  float64\n",
      " 14  TUE                             20758 non-null  float64\n",
      " 15  CALC                            20758 non-null  object \n",
      " 16  MTRANS                          20758 non-null  object \n",
      " 17  NObeyesdad                      20758 non-null  object \n",
      "dtypes: float64(8), int64(1), object(9)\n",
      "memory usage: 2.9+ MB\n"
     ]
    }
   ],
   "source": [
    "# datatype 확인\n",
    "df_train.info()"
   ]
  },
  {
   "cell_type": "code",
   "execution_count": 60,
   "metadata": {},
   "outputs": [
    {
     "data": {
      "text/html": [
       "<div>\n",
       "<style scoped>\n",
       "    .dataframe tbody tr th:only-of-type {\n",
       "        vertical-align: middle;\n",
       "    }\n",
       "\n",
       "    .dataframe tbody tr th {\n",
       "        vertical-align: top;\n",
       "    }\n",
       "\n",
       "    .dataframe thead th {\n",
       "        text-align: right;\n",
       "    }\n",
       "</style>\n",
       "<table border=\"1\" class=\"dataframe\">\n",
       "  <thead>\n",
       "    <tr style=\"text-align: right;\">\n",
       "      <th></th>\n",
       "      <th>count</th>\n",
       "      <th>unique</th>\n",
       "      <th>top</th>\n",
       "      <th>freq</th>\n",
       "      <th>mean</th>\n",
       "      <th>std</th>\n",
       "      <th>min</th>\n",
       "      <th>25%</th>\n",
       "      <th>50%</th>\n",
       "      <th>75%</th>\n",
       "      <th>max</th>\n",
       "    </tr>\n",
       "  </thead>\n",
       "  <tbody>\n",
       "    <tr>\n",
       "      <th>id</th>\n",
       "      <td>20758.0</td>\n",
       "      <td>NaN</td>\n",
       "      <td>NaN</td>\n",
       "      <td>NaN</td>\n",
       "      <td>10378.5</td>\n",
       "      <td>5992.46278</td>\n",
       "      <td>0.0</td>\n",
       "      <td>5189.25</td>\n",
       "      <td>10378.5</td>\n",
       "      <td>15567.75</td>\n",
       "      <td>20757.0</td>\n",
       "    </tr>\n",
       "    <tr>\n",
       "      <th>Gender</th>\n",
       "      <td>20758</td>\n",
       "      <td>2</td>\n",
       "      <td>Female</td>\n",
       "      <td>10422</td>\n",
       "      <td>NaN</td>\n",
       "      <td>NaN</td>\n",
       "      <td>NaN</td>\n",
       "      <td>NaN</td>\n",
       "      <td>NaN</td>\n",
       "      <td>NaN</td>\n",
       "      <td>NaN</td>\n",
       "    </tr>\n",
       "    <tr>\n",
       "      <th>Age</th>\n",
       "      <td>20758.0</td>\n",
       "      <td>NaN</td>\n",
       "      <td>NaN</td>\n",
       "      <td>NaN</td>\n",
       "      <td>23.841804</td>\n",
       "      <td>5.688072</td>\n",
       "      <td>14.0</td>\n",
       "      <td>20.0</td>\n",
       "      <td>22.815416</td>\n",
       "      <td>26.0</td>\n",
       "      <td>61.0</td>\n",
       "    </tr>\n",
       "    <tr>\n",
       "      <th>Height</th>\n",
       "      <td>20758.0</td>\n",
       "      <td>NaN</td>\n",
       "      <td>NaN</td>\n",
       "      <td>NaN</td>\n",
       "      <td>1.700245</td>\n",
       "      <td>0.087312</td>\n",
       "      <td>1.45</td>\n",
       "      <td>1.631856</td>\n",
       "      <td>1.7</td>\n",
       "      <td>1.762887</td>\n",
       "      <td>1.975663</td>\n",
       "    </tr>\n",
       "    <tr>\n",
       "      <th>Weight</th>\n",
       "      <td>20758.0</td>\n",
       "      <td>NaN</td>\n",
       "      <td>NaN</td>\n",
       "      <td>NaN</td>\n",
       "      <td>87.887768</td>\n",
       "      <td>26.379443</td>\n",
       "      <td>39.0</td>\n",
       "      <td>66.0</td>\n",
       "      <td>84.064875</td>\n",
       "      <td>111.600553</td>\n",
       "      <td>165.057269</td>\n",
       "    </tr>\n",
       "    <tr>\n",
       "      <th>family_history_with_overweight</th>\n",
       "      <td>20758</td>\n",
       "      <td>2</td>\n",
       "      <td>yes</td>\n",
       "      <td>17014</td>\n",
       "      <td>NaN</td>\n",
       "      <td>NaN</td>\n",
       "      <td>NaN</td>\n",
       "      <td>NaN</td>\n",
       "      <td>NaN</td>\n",
       "      <td>NaN</td>\n",
       "      <td>NaN</td>\n",
       "    </tr>\n",
       "    <tr>\n",
       "      <th>FAVC</th>\n",
       "      <td>20758</td>\n",
       "      <td>2</td>\n",
       "      <td>yes</td>\n",
       "      <td>18982</td>\n",
       "      <td>NaN</td>\n",
       "      <td>NaN</td>\n",
       "      <td>NaN</td>\n",
       "      <td>NaN</td>\n",
       "      <td>NaN</td>\n",
       "      <td>NaN</td>\n",
       "      <td>NaN</td>\n",
       "    </tr>\n",
       "    <tr>\n",
       "      <th>FCVC</th>\n",
       "      <td>20758.0</td>\n",
       "      <td>NaN</td>\n",
       "      <td>NaN</td>\n",
       "      <td>NaN</td>\n",
       "      <td>2.445908</td>\n",
       "      <td>0.533218</td>\n",
       "      <td>1.0</td>\n",
       "      <td>2.0</td>\n",
       "      <td>2.393837</td>\n",
       "      <td>3.0</td>\n",
       "      <td>3.0</td>\n",
       "    </tr>\n",
       "    <tr>\n",
       "      <th>NCP</th>\n",
       "      <td>20758.0</td>\n",
       "      <td>NaN</td>\n",
       "      <td>NaN</td>\n",
       "      <td>NaN</td>\n",
       "      <td>2.761332</td>\n",
       "      <td>0.705375</td>\n",
       "      <td>1.0</td>\n",
       "      <td>3.0</td>\n",
       "      <td>3.0</td>\n",
       "      <td>3.0</td>\n",
       "      <td>4.0</td>\n",
       "    </tr>\n",
       "    <tr>\n",
       "      <th>CAEC</th>\n",
       "      <td>20758</td>\n",
       "      <td>4</td>\n",
       "      <td>Sometimes</td>\n",
       "      <td>17529</td>\n",
       "      <td>NaN</td>\n",
       "      <td>NaN</td>\n",
       "      <td>NaN</td>\n",
       "      <td>NaN</td>\n",
       "      <td>NaN</td>\n",
       "      <td>NaN</td>\n",
       "      <td>NaN</td>\n",
       "    </tr>\n",
       "    <tr>\n",
       "      <th>SMOKE</th>\n",
       "      <td>20758</td>\n",
       "      <td>2</td>\n",
       "      <td>no</td>\n",
       "      <td>20513</td>\n",
       "      <td>NaN</td>\n",
       "      <td>NaN</td>\n",
       "      <td>NaN</td>\n",
       "      <td>NaN</td>\n",
       "      <td>NaN</td>\n",
       "      <td>NaN</td>\n",
       "      <td>NaN</td>\n",
       "    </tr>\n",
       "    <tr>\n",
       "      <th>CH2O</th>\n",
       "      <td>20758.0</td>\n",
       "      <td>NaN</td>\n",
       "      <td>NaN</td>\n",
       "      <td>NaN</td>\n",
       "      <td>2.029418</td>\n",
       "      <td>0.608467</td>\n",
       "      <td>1.0</td>\n",
       "      <td>1.792022</td>\n",
       "      <td>2.0</td>\n",
       "      <td>2.549617</td>\n",
       "      <td>3.0</td>\n",
       "    </tr>\n",
       "    <tr>\n",
       "      <th>SCC</th>\n",
       "      <td>20758</td>\n",
       "      <td>2</td>\n",
       "      <td>no</td>\n",
       "      <td>20071</td>\n",
       "      <td>NaN</td>\n",
       "      <td>NaN</td>\n",
       "      <td>NaN</td>\n",
       "      <td>NaN</td>\n",
       "      <td>NaN</td>\n",
       "      <td>NaN</td>\n",
       "      <td>NaN</td>\n",
       "    </tr>\n",
       "    <tr>\n",
       "      <th>FAF</th>\n",
       "      <td>20758.0</td>\n",
       "      <td>NaN</td>\n",
       "      <td>NaN</td>\n",
       "      <td>NaN</td>\n",
       "      <td>0.981747</td>\n",
       "      <td>0.838302</td>\n",
       "      <td>0.0</td>\n",
       "      <td>0.008013</td>\n",
       "      <td>1.0</td>\n",
       "      <td>1.587406</td>\n",
       "      <td>3.0</td>\n",
       "    </tr>\n",
       "    <tr>\n",
       "      <th>TUE</th>\n",
       "      <td>20758.0</td>\n",
       "      <td>NaN</td>\n",
       "      <td>NaN</td>\n",
       "      <td>NaN</td>\n",
       "      <td>0.616756</td>\n",
       "      <td>0.602113</td>\n",
       "      <td>0.0</td>\n",
       "      <td>0.0</td>\n",
       "      <td>0.573887</td>\n",
       "      <td>1.0</td>\n",
       "      <td>2.0</td>\n",
       "    </tr>\n",
       "    <tr>\n",
       "      <th>CALC</th>\n",
       "      <td>20758</td>\n",
       "      <td>3</td>\n",
       "      <td>Sometimes</td>\n",
       "      <td>15066</td>\n",
       "      <td>NaN</td>\n",
       "      <td>NaN</td>\n",
       "      <td>NaN</td>\n",
       "      <td>NaN</td>\n",
       "      <td>NaN</td>\n",
       "      <td>NaN</td>\n",
       "      <td>NaN</td>\n",
       "    </tr>\n",
       "    <tr>\n",
       "      <th>MTRANS</th>\n",
       "      <td>20758</td>\n",
       "      <td>5</td>\n",
       "      <td>Public_Transportation</td>\n",
       "      <td>16687</td>\n",
       "      <td>NaN</td>\n",
       "      <td>NaN</td>\n",
       "      <td>NaN</td>\n",
       "      <td>NaN</td>\n",
       "      <td>NaN</td>\n",
       "      <td>NaN</td>\n",
       "      <td>NaN</td>\n",
       "    </tr>\n",
       "    <tr>\n",
       "      <th>NObeyesdad</th>\n",
       "      <td>20758</td>\n",
       "      <td>7</td>\n",
       "      <td>Obesity_Type_III</td>\n",
       "      <td>4046</td>\n",
       "      <td>NaN</td>\n",
       "      <td>NaN</td>\n",
       "      <td>NaN</td>\n",
       "      <td>NaN</td>\n",
       "      <td>NaN</td>\n",
       "      <td>NaN</td>\n",
       "      <td>NaN</td>\n",
       "    </tr>\n",
       "  </tbody>\n",
       "</table>\n",
       "</div>"
      ],
      "text/plain": [
       "                                  count unique                    top   freq  \\\n",
       "id                              20758.0    NaN                    NaN    NaN   \n",
       "Gender                            20758      2                 Female  10422   \n",
       "Age                             20758.0    NaN                    NaN    NaN   \n",
       "Height                          20758.0    NaN                    NaN    NaN   \n",
       "Weight                          20758.0    NaN                    NaN    NaN   \n",
       "family_history_with_overweight    20758      2                    yes  17014   \n",
       "FAVC                              20758      2                    yes  18982   \n",
       "FCVC                            20758.0    NaN                    NaN    NaN   \n",
       "NCP                             20758.0    NaN                    NaN    NaN   \n",
       "CAEC                              20758      4              Sometimes  17529   \n",
       "SMOKE                             20758      2                     no  20513   \n",
       "CH2O                            20758.0    NaN                    NaN    NaN   \n",
       "SCC                               20758      2                     no  20071   \n",
       "FAF                             20758.0    NaN                    NaN    NaN   \n",
       "TUE                             20758.0    NaN                    NaN    NaN   \n",
       "CALC                              20758      3              Sometimes  15066   \n",
       "MTRANS                            20758      5  Public_Transportation  16687   \n",
       "NObeyesdad                        20758      7       Obesity_Type_III   4046   \n",
       "\n",
       "                                     mean         std   min       25%  \\\n",
       "id                                10378.5  5992.46278   0.0   5189.25   \n",
       "Gender                                NaN         NaN   NaN       NaN   \n",
       "Age                             23.841804    5.688072  14.0      20.0   \n",
       "Height                           1.700245    0.087312  1.45  1.631856   \n",
       "Weight                          87.887768   26.379443  39.0      66.0   \n",
       "family_history_with_overweight        NaN         NaN   NaN       NaN   \n",
       "FAVC                                  NaN         NaN   NaN       NaN   \n",
       "FCVC                             2.445908    0.533218   1.0       2.0   \n",
       "NCP                              2.761332    0.705375   1.0       3.0   \n",
       "CAEC                                  NaN         NaN   NaN       NaN   \n",
       "SMOKE                                 NaN         NaN   NaN       NaN   \n",
       "CH2O                             2.029418    0.608467   1.0  1.792022   \n",
       "SCC                                   NaN         NaN   NaN       NaN   \n",
       "FAF                              0.981747    0.838302   0.0  0.008013   \n",
       "TUE                              0.616756    0.602113   0.0       0.0   \n",
       "CALC                                  NaN         NaN   NaN       NaN   \n",
       "MTRANS                                NaN         NaN   NaN       NaN   \n",
       "NObeyesdad                            NaN         NaN   NaN       NaN   \n",
       "\n",
       "                                      50%         75%         max  \n",
       "id                                10378.5    15567.75     20757.0  \n",
       "Gender                                NaN         NaN         NaN  \n",
       "Age                             22.815416        26.0        61.0  \n",
       "Height                                1.7    1.762887    1.975663  \n",
       "Weight                          84.064875  111.600553  165.057269  \n",
       "family_history_with_overweight        NaN         NaN         NaN  \n",
       "FAVC                                  NaN         NaN         NaN  \n",
       "FCVC                             2.393837         3.0         3.0  \n",
       "NCP                                   3.0         3.0         4.0  \n",
       "CAEC                                  NaN         NaN         NaN  \n",
       "SMOKE                                 NaN         NaN         NaN  \n",
       "CH2O                                  2.0    2.549617         3.0  \n",
       "SCC                                   NaN         NaN         NaN  \n",
       "FAF                                   1.0    1.587406         3.0  \n",
       "TUE                              0.573887         1.0         2.0  \n",
       "CALC                                  NaN         NaN         NaN  \n",
       "MTRANS                                NaN         NaN         NaN  \n",
       "NObeyesdad                            NaN         NaN         NaN  "
      ]
     },
     "execution_count": 60,
     "metadata": {},
     "output_type": "execute_result"
    }
   ],
   "source": [
    "df_train.describe(include='all').T"
   ]
  },
  {
   "cell_type": "code",
   "execution_count": 61,
   "metadata": {},
   "outputs": [
    {
     "name": "stdout",
     "output_type": "stream",
     "text": [
      "Rows: 20758\n",
      "Columns: 18\n"
     ]
    }
   ],
   "source": [
    "print('Rows:', df_train.shape[0])\n",
    "print('Columns:', df_train.shape[1])"
   ]
  },
  {
   "cell_type": "markdown",
   "metadata": {},
   "source": [
    "<font color=yellow>\n",
    "3. 데이터 구성\n",
    "</font>"
   ]
  },
  {
   "cell_type": "code",
   "execution_count": 62,
   "metadata": {},
   "outputs": [
    {
     "data": {
      "text/html": [
       "<div>\n",
       "<style scoped>\n",
       "    .dataframe tbody tr th:only-of-type {\n",
       "        vertical-align: middle;\n",
       "    }\n",
       "\n",
       "    .dataframe tbody tr th {\n",
       "        vertical-align: top;\n",
       "    }\n",
       "\n",
       "    .dataframe thead th {\n",
       "        text-align: right;\n",
       "    }\n",
       "</style>\n",
       "<table border=\"1\" class=\"dataframe\">\n",
       "  <thead>\n",
       "    <tr style=\"text-align: right;\">\n",
       "      <th></th>\n",
       "      <th>Weight</th>\n",
       "      <th>Height</th>\n",
       "      <th>Age</th>\n",
       "    </tr>\n",
       "  </thead>\n",
       "  <tbody>\n",
       "    <tr>\n",
       "      <th>0</th>\n",
       "      <td>81.669950</td>\n",
       "      <td>1.699998</td>\n",
       "      <td>24.443011</td>\n",
       "    </tr>\n",
       "    <tr>\n",
       "      <th>1</th>\n",
       "      <td>57.000000</td>\n",
       "      <td>1.560000</td>\n",
       "      <td>18.000000</td>\n",
       "    </tr>\n",
       "    <tr>\n",
       "      <th>2</th>\n",
       "      <td>50.165754</td>\n",
       "      <td>1.711460</td>\n",
       "      <td>18.000000</td>\n",
       "    </tr>\n",
       "    <tr>\n",
       "      <th>3</th>\n",
       "      <td>131.274851</td>\n",
       "      <td>1.710730</td>\n",
       "      <td>20.952737</td>\n",
       "    </tr>\n",
       "    <tr>\n",
       "      <th>4</th>\n",
       "      <td>93.798055</td>\n",
       "      <td>1.914186</td>\n",
       "      <td>31.641081</td>\n",
       "    </tr>\n",
       "    <tr>\n",
       "      <th>...</th>\n",
       "      <td>...</td>\n",
       "      <td>...</td>\n",
       "      <td>...</td>\n",
       "    </tr>\n",
       "    <tr>\n",
       "      <th>20753</th>\n",
       "      <td>114.187096</td>\n",
       "      <td>1.766626</td>\n",
       "      <td>25.137087</td>\n",
       "    </tr>\n",
       "    <tr>\n",
       "      <th>20754</th>\n",
       "      <td>50.000000</td>\n",
       "      <td>1.710000</td>\n",
       "      <td>18.000000</td>\n",
       "    </tr>\n",
       "    <tr>\n",
       "      <th>20755</th>\n",
       "      <td>105.580491</td>\n",
       "      <td>1.819557</td>\n",
       "      <td>20.101026</td>\n",
       "    </tr>\n",
       "    <tr>\n",
       "      <th>20756</th>\n",
       "      <td>83.520113</td>\n",
       "      <td>1.700000</td>\n",
       "      <td>33.852953</td>\n",
       "    </tr>\n",
       "    <tr>\n",
       "      <th>20757</th>\n",
       "      <td>118.134898</td>\n",
       "      <td>1.816547</td>\n",
       "      <td>26.680376</td>\n",
       "    </tr>\n",
       "  </tbody>\n",
       "</table>\n",
       "<p>20758 rows × 3 columns</p>\n",
       "</div>"
      ],
      "text/plain": [
       "           Weight    Height        Age\n",
       "0       81.669950  1.699998  24.443011\n",
       "1       57.000000  1.560000  18.000000\n",
       "2       50.165754  1.711460  18.000000\n",
       "3      131.274851  1.710730  20.952737\n",
       "4       93.798055  1.914186  31.641081\n",
       "...           ...       ...        ...\n",
       "20753  114.187096  1.766626  25.137087\n",
       "20754   50.000000  1.710000  18.000000\n",
       "20755  105.580491  1.819557  20.101026\n",
       "20756   83.520113  1.700000  33.852953\n",
       "20757  118.134898  1.816547  26.680376\n",
       "\n",
       "[20758 rows x 3 columns]"
      ]
     },
     "execution_count": 62,
     "metadata": {},
     "output_type": "execute_result"
    }
   ],
   "source": [
    "# X = df_train.drop(columns=['id', 'NObeyesdad'])\n",
    "X = df_train[['Weight', 'Height', 'Age']]\n",
    "\n",
    "X"
   ]
  },
  {
   "cell_type": "code",
   "execution_count": 63,
   "metadata": {},
   "outputs": [
    {
     "data": {
      "text/html": [
       "<div>\n",
       "<style scoped>\n",
       "    .dataframe tbody tr th:only-of-type {\n",
       "        vertical-align: middle;\n",
       "    }\n",
       "\n",
       "    .dataframe tbody tr th {\n",
       "        vertical-align: top;\n",
       "    }\n",
       "\n",
       "    .dataframe thead th {\n",
       "        text-align: right;\n",
       "    }\n",
       "</style>\n",
       "<table border=\"1\" class=\"dataframe\">\n",
       "  <thead>\n",
       "    <tr style=\"text-align: right;\">\n",
       "      <th></th>\n",
       "      <th>NObeyesdad</th>\n",
       "    </tr>\n",
       "  </thead>\n",
       "  <tbody>\n",
       "    <tr>\n",
       "      <th>0</th>\n",
       "      <td>Overweight_Level_II</td>\n",
       "    </tr>\n",
       "    <tr>\n",
       "      <th>1</th>\n",
       "      <td>Normal_Weight</td>\n",
       "    </tr>\n",
       "    <tr>\n",
       "      <th>2</th>\n",
       "      <td>Insufficient_Weight</td>\n",
       "    </tr>\n",
       "    <tr>\n",
       "      <th>3</th>\n",
       "      <td>Obesity_Type_III</td>\n",
       "    </tr>\n",
       "    <tr>\n",
       "      <th>4</th>\n",
       "      <td>Overweight_Level_II</td>\n",
       "    </tr>\n",
       "    <tr>\n",
       "      <th>...</th>\n",
       "      <td>...</td>\n",
       "    </tr>\n",
       "    <tr>\n",
       "      <th>20753</th>\n",
       "      <td>Obesity_Type_II</td>\n",
       "    </tr>\n",
       "    <tr>\n",
       "      <th>20754</th>\n",
       "      <td>Insufficient_Weight</td>\n",
       "    </tr>\n",
       "    <tr>\n",
       "      <th>20755</th>\n",
       "      <td>Obesity_Type_II</td>\n",
       "    </tr>\n",
       "    <tr>\n",
       "      <th>20756</th>\n",
       "      <td>Overweight_Level_II</td>\n",
       "    </tr>\n",
       "    <tr>\n",
       "      <th>20757</th>\n",
       "      <td>Obesity_Type_II</td>\n",
       "    </tr>\n",
       "  </tbody>\n",
       "</table>\n",
       "<p>20758 rows × 1 columns</p>\n",
       "</div>"
      ],
      "text/plain": [
       "                NObeyesdad\n",
       "0      Overweight_Level_II\n",
       "1            Normal_Weight\n",
       "2      Insufficient_Weight\n",
       "3         Obesity_Type_III\n",
       "4      Overweight_Level_II\n",
       "...                    ...\n",
       "20753      Obesity_Type_II\n",
       "20754  Insufficient_Weight\n",
       "20755      Obesity_Type_II\n",
       "20756  Overweight_Level_II\n",
       "20757      Obesity_Type_II\n",
       "\n",
       "[20758 rows x 1 columns]"
      ]
     },
     "execution_count": 63,
     "metadata": {},
     "output_type": "execute_result"
    }
   ],
   "source": [
    "# y = df_anj[['1-RE_AIS', '2-RE_AIS', '3-RE_AIS', '4-RE_AIS', '5-RE_AIS', '6-RE_AIS']]\n",
    "y = df_train[['NObeyesdad']]\n",
    "y"
   ]
  },
  {
   "cell_type": "code",
   "execution_count": 64,
   "metadata": {},
   "outputs": [
    {
     "data": {
      "text/plain": [
       "((20758, 3), (20758, 1))"
      ]
     },
     "execution_count": 64,
     "metadata": {},
     "output_type": "execute_result"
    }
   ],
   "source": [
    "X.shape, y.shape"
   ]
  },
  {
   "cell_type": "code",
   "execution_count": 65,
   "metadata": {},
   "outputs": [
    {
     "data": {
      "text/plain": [
       "((16606, 3), (4152, 3))"
      ]
     },
     "execution_count": 65,
     "metadata": {},
     "output_type": "execute_result"
    }
   ],
   "source": [
    "# train/test dataset 분리\n",
    "X_train, X_test, y_train, y_test = train_test_split(X, y, test_size=0.2, random_state=42)\n",
    "X_train.shape, X_test.shape"
   ]
  },
  {
   "cell_type": "code",
   "execution_count": 66,
   "metadata": {},
   "outputs": [],
   "source": [
    "# cat_attribs = ['Gender', 'family_history_with_overweight', 'FAVC', 'CAEC', 'SMOKE', 'SCC', 'CALC', 'MTRANS']\n",
    "# X_train[cat_attribs] = X_train[cat_attribs].astype('category')\n",
    "# X_test[cat_attribs] = X_test[cat_attribs].astype('category')"
   ]
  },
  {
   "cell_type": "markdown",
   "metadata": {},
   "source": [
    "<font color=yellow>\n",
    "4. 모델 구성\n",
    "</font>\n",
    "\n",
    "- parameter 참고\n",
    "  - https://xgboost.readthedocs.io/en/stable/python/python_api.html\n",
    "  - https://hwi-doc.tistory.com/entry/%EC%9D%B4%ED%95%B4%ED%95%98%EA%B3%A0-%EC%82%AC%EC%9A%A9%ED%95%98%EC%9E%90-XGBoost\n",
    "  - https://injo.tistory.com/44"
   ]
  },
  {
   "cell_type": "code",
   "execution_count": 67,
   "metadata": {},
   "outputs": [],
   "source": [
    "le = LabelEncoder()\n",
    "y_train = le.fit_transform(y_train)\n",
    "y_test = le.fit_transform(y_test)"
   ]
  },
  {
   "cell_type": "code",
   "execution_count": 68,
   "metadata": {},
   "outputs": [
    {
     "data": {
      "text/html": [
       "wandb version 0.17.5 is available!  To upgrade, please run:\n",
       " $ pip install wandb --upgrade"
      ],
      "text/plain": [
       "<IPython.core.display.HTML object>"
      ]
     },
     "metadata": {},
     "output_type": "display_data"
    },
    {
     "data": {
      "text/html": [
       "Tracking run with wandb version 0.13.1"
      ],
      "text/plain": [
       "<IPython.core.display.HTML object>"
      ]
     },
     "metadata": {},
     "output_type": "display_data"
    },
    {
     "data": {
      "text/html": [
       "Run data is saved locally in <code>d:\\VS Code\\kaggle\\wandb\\run-20240721_170121-3r4rasf0</code>"
      ],
      "text/plain": [
       "<IPython.core.display.HTML object>"
      ]
     },
     "metadata": {},
     "output_type": "display_data"
    },
    {
     "data": {
      "text/html": [
       "Syncing run <strong><a href=\"https://wandb.ai/hanlyang/kaggle_obesity/runs/3r4rasf0\" target=\"_blank\">fresh-valley-12</a></strong> to <a href=\"https://wandb.ai/hanlyang/kaggle_obesity\" target=\"_blank\">Weights & Biases</a> (<a href=\"https://wandb.me/run\" target=\"_blank\">docs</a>)<br/>"
      ],
      "text/plain": [
       "<IPython.core.display.HTML object>"
      ]
     },
     "metadata": {},
     "output_type": "display_data"
    }
   ],
   "source": [
    "wandb.init(\n",
    "    project=\"kaggle_obesity\",\n",
    "    \n",
    ")\n",
    "\n",
    "xgb_params = {\n",
    "    'n_estimators': [10000, 100000, 200000, 400000],\n",
    "    'max_depth': [10, 20],\n",
    "    'min_child_weight': [1],\n",
    "    'learning_rate': [0.1, 0.05],\n",
    "    'early_stopping_rounds': [100, 500, 1000],\n",
    "    'scale_pos_weight': [100]\n",
    "}\n",
    "\n",
    "xgb_model = XGBClassifier(\n",
    "                            # general params\n",
    "                            booster = 'gbtree',               # 부스팅 종류\n",
    "                            n_jobs = -1,                    # 사용 쓰레드 수\n",
    "                            tree_method=\"hist\",\n",
    "                            enable_categorical = True,\n",
    "                            device='cuda',                    \n",
    "                            \n",
    "                            # boost params\n",
    "                            # param_grid = xgb_params,\n",
    "                            n_estimators = 10000,\n",
    "                            max_depth = 10,\n",
    "                            min_child_weight = 1,\n",
    "                            learning_rate = 0.1,\n",
    "                            early_stopping_rounds = 100,\n",
    "                            scale_pos_weight = 100\n",
    "\n",
    "                            # learning task params   \n",
    "                            objective = 'multi:softproba',    # loss function, multi:softmax : 다중분류, 클래스 반환\n",
    "\n",
    "                            # eval_metric = ''                # eval metric, objective에 따라 정해짐\n",
    "                            seed = 42,\n",
    "                            verbosity = 1,                   # \n",
    "                            callbacks=[WandbCallback(define_metric='validation_0-mlogloss')]\n",
    "                        )"
   ]
  },
  {
   "cell_type": "markdown",
   "metadata": {},
   "source": [
    "<font color=yellow>\n",
    "5. 모델 학습\n",
    "</font>"
   ]
  },
  {
   "cell_type": "code",
   "execution_count": 69,
   "metadata": {},
   "outputs": [
    {
     "name": "stdout",
     "output_type": "stream",
     "text": [
      "[17:01:22] WARNING: C:/Users/Administrator/workspace/xgboost-win64_release_1.6.0/src/learner.cc:627: \n",
      "Parameters: { \"device\", \"param_grid\" } might not be used.\n",
      "\n",
      "  This could be a false alarm, with some parameters getting used by language bindings but\n",
      "  then being mistakenly passed down to XGBoost core, or some parameter actually being used\n",
      "  but getting flagged wrongly here. Please open an issue if you find any such cases.\n",
      "\n",
      "\n",
      "[0]\tvalidation_0-mlogloss:1.25947\n",
      "[1]\tvalidation_0-mlogloss:0.98161\n",
      "[2]\tvalidation_0-mlogloss:0.80994\n",
      "[3]\tvalidation_0-mlogloss:0.69364\n",
      "[4]\tvalidation_0-mlogloss:0.61056\n",
      "[5]\tvalidation_0-mlogloss:0.55070\n",
      "[6]\tvalidation_0-mlogloss:0.50640\n",
      "[7]\tvalidation_0-mlogloss:0.47144\n",
      "[8]\tvalidation_0-mlogloss:0.44634\n",
      "[9]\tvalidation_0-mlogloss:0.42674\n",
      "[10]\tvalidation_0-mlogloss:0.41135\n",
      "[11]\tvalidation_0-mlogloss:0.40043\n",
      "[12]\tvalidation_0-mlogloss:0.39158\n",
      "[13]\tvalidation_0-mlogloss:0.38448\n",
      "[14]\tvalidation_0-mlogloss:0.37884\n",
      "[15]\tvalidation_0-mlogloss:0.37435\n",
      "[16]\tvalidation_0-mlogloss:0.37067\n",
      "[17]\tvalidation_0-mlogloss:0.36795\n",
      "[18]\tvalidation_0-mlogloss:0.36577\n",
      "[19]\tvalidation_0-mlogloss:0.36265\n",
      "[20]\tvalidation_0-mlogloss:0.36096\n",
      "[21]\tvalidation_0-mlogloss:0.35893\n",
      "[22]\tvalidation_0-mlogloss:0.35749\n",
      "[23]\tvalidation_0-mlogloss:0.35566\n",
      "[24]\tvalidation_0-mlogloss:0.35449\n",
      "[25]\tvalidation_0-mlogloss:0.35376\n",
      "[26]\tvalidation_0-mlogloss:0.35284\n",
      "[27]\tvalidation_0-mlogloss:0.35211\n",
      "[28]\tvalidation_0-mlogloss:0.35126\n",
      "[29]\tvalidation_0-mlogloss:0.35087\n",
      "[30]\tvalidation_0-mlogloss:0.35037\n",
      "[31]\tvalidation_0-mlogloss:0.34944\n",
      "[32]\tvalidation_0-mlogloss:0.34912\n",
      "[33]\tvalidation_0-mlogloss:0.34891\n",
      "[34]\tvalidation_0-mlogloss:0.34848\n",
      "[35]\tvalidation_0-mlogloss:0.34812\n",
      "[36]\tvalidation_0-mlogloss:0.34827\n",
      "[37]\tvalidation_0-mlogloss:0.34799\n",
      "[38]\tvalidation_0-mlogloss:0.34777\n",
      "[39]\tvalidation_0-mlogloss:0.34779\n",
      "[40]\tvalidation_0-mlogloss:0.34733\n",
      "[41]\tvalidation_0-mlogloss:0.34740\n",
      "[42]\tvalidation_0-mlogloss:0.34756\n",
      "[43]\tvalidation_0-mlogloss:0.34707\n",
      "[44]\tvalidation_0-mlogloss:0.34691\n",
      "[45]\tvalidation_0-mlogloss:0.34727\n",
      "[46]\tvalidation_0-mlogloss:0.34696\n",
      "[47]\tvalidation_0-mlogloss:0.34685\n",
      "[48]\tvalidation_0-mlogloss:0.34688\n",
      "[49]\tvalidation_0-mlogloss:0.34663\n",
      "[50]\tvalidation_0-mlogloss:0.34682\n",
      "[51]\tvalidation_0-mlogloss:0.34675\n",
      "[52]\tvalidation_0-mlogloss:0.34719\n",
      "[53]\tvalidation_0-mlogloss:0.34700\n",
      "[54]\tvalidation_0-mlogloss:0.34710\n",
      "[55]\tvalidation_0-mlogloss:0.34711\n",
      "[56]\tvalidation_0-mlogloss:0.34696\n",
      "[57]\tvalidation_0-mlogloss:0.34730\n",
      "[58]\tvalidation_0-mlogloss:0.34748\n",
      "[59]\tvalidation_0-mlogloss:0.34737\n",
      "[60]\tvalidation_0-mlogloss:0.34740\n",
      "[61]\tvalidation_0-mlogloss:0.34782\n",
      "[62]\tvalidation_0-mlogloss:0.34816\n",
      "[63]\tvalidation_0-mlogloss:0.34826\n",
      "[64]\tvalidation_0-mlogloss:0.34843\n",
      "[65]\tvalidation_0-mlogloss:0.34863\n",
      "[66]\tvalidation_0-mlogloss:0.34867\n",
      "[67]\tvalidation_0-mlogloss:0.34888\n",
      "[68]\tvalidation_0-mlogloss:0.34890\n",
      "[69]\tvalidation_0-mlogloss:0.34927\n",
      "[70]\tvalidation_0-mlogloss:0.34969\n",
      "[71]\tvalidation_0-mlogloss:0.34987\n",
      "[72]\tvalidation_0-mlogloss:0.35008\n",
      "[73]\tvalidation_0-mlogloss:0.35035\n",
      "[74]\tvalidation_0-mlogloss:0.35053\n",
      "[75]\tvalidation_0-mlogloss:0.35060\n",
      "[76]\tvalidation_0-mlogloss:0.35098\n",
      "[77]\tvalidation_0-mlogloss:0.35092\n",
      "[78]\tvalidation_0-mlogloss:0.35109\n",
      "[79]\tvalidation_0-mlogloss:0.35141\n",
      "[80]\tvalidation_0-mlogloss:0.35188\n",
      "[81]\tvalidation_0-mlogloss:0.35199\n",
      "[82]\tvalidation_0-mlogloss:0.35242\n",
      "[83]\tvalidation_0-mlogloss:0.35282\n",
      "[84]\tvalidation_0-mlogloss:0.35303\n",
      "[85]\tvalidation_0-mlogloss:0.35337\n",
      "[86]\tvalidation_0-mlogloss:0.35369\n",
      "[87]\tvalidation_0-mlogloss:0.35377\n",
      "[88]\tvalidation_0-mlogloss:0.35379\n",
      "[89]\tvalidation_0-mlogloss:0.35408\n",
      "[90]\tvalidation_0-mlogloss:0.35426\n",
      "[91]\tvalidation_0-mlogloss:0.35428\n",
      "[92]\tvalidation_0-mlogloss:0.35467\n",
      "[93]\tvalidation_0-mlogloss:0.35523\n",
      "[94]\tvalidation_0-mlogloss:0.35556\n",
      "[95]\tvalidation_0-mlogloss:0.35590\n",
      "[96]\tvalidation_0-mlogloss:0.35657\n",
      "[97]\tvalidation_0-mlogloss:0.35687\n",
      "[98]\tvalidation_0-mlogloss:0.35711\n",
      "[99]\tvalidation_0-mlogloss:0.35748\n"
     ]
    },
    {
     "data": {
      "text/plain": [
       "XGBClassifier(base_score=0.5, booster='gbtree',\n",
       "              callbacks=[<wandb.integration.xgboost.xgboost.WandbCallback object at 0x000002741F422550>],\n",
       "              colsample_bylevel=1, colsample_bynode=1, colsample_bytree=1,\n",
       "              device='cuda', early_stopping_rounds=None,\n",
       "              enable_categorical=True, eval_metric=None, gamma=0, gpu_id=-1,\n",
       "              grow_policy='depthwise', importance_type=None,\n",
       "              interaction_c...\n",
       "              max_leaves=0, min_child_weight=1, missing=nan,\n",
       "              monotone_constraints='()', n_estimators=100, n_jobs=-1,\n",
       "              num_parallel_tree=1, objective='multi:softprob',\n",
       "              param_grid={'early_stopping_rounds': [100, 500, 1000],\n",
       "                          'learning_rate': [0.1, 0.05], 'max_depth': [10, 20],\n",
       "                          'min_child_weight': [1],\n",
       "                          'n_estimators': [10000, 100000, 200000, 400000],\n",
       "                          'scale_pos_weight': [100]},\n",
       "              predictor='auto', ...)"
      ]
     },
     "execution_count": 69,
     "metadata": {},
     "output_type": "execute_result"
    }
   ],
   "source": [
    "xgb_model.fit(X_train, y_train,\n",
    "        eval_set = [(X_test, y_test)],  # eval set\n",
    "        )"
   ]
  },
  {
   "cell_type": "code",
   "execution_count": 70,
   "metadata": {},
   "outputs": [
    {
     "data": {
      "text/plain": [
       "0.8766859344894027"
      ]
     },
     "execution_count": 70,
     "metadata": {},
     "output_type": "execute_result"
    }
   ],
   "source": [
    "y_pred = xgb_model.predict(X_test)\n",
    "y_pred_probs = xgb_model.predict_proba(X_test)[:, 1]\n",
    "score = accuracy_score(y_pred, y_test)\n",
    "score"
   ]
  },
  {
   "cell_type": "code",
   "execution_count": 71,
   "metadata": {},
   "outputs": [
    {
     "data": {
      "text/html": [
       "Waiting for W&B process to finish... <strong style=\"color:green\">(success).</strong>"
      ],
      "text/plain": [
       "<IPython.core.display.HTML object>"
      ]
     },
     "metadata": {},
     "output_type": "display_data"
    },
    {
     "data": {
      "text/html": [
       "<style>\n",
       "    table.wandb td:nth-child(1) { padding: 0 10px; text-align: left ; width: auto;} td:nth-child(2) {text-align: left ; width: 100%}\n",
       "    .wandb-row { display: flex; flex-direction: row; flex-wrap: wrap; justify-content: flex-start; width: 100% }\n",
       "    .wandb-col { display: flex; flex-direction: column; flex-basis: 100%; flex: 1; padding: 10px; }\n",
       "    </style>\n",
       "<div class=\"wandb-row\"><div class=\"wandb-col\"><h3>Run history:</h3><br/><table class=\"wandb\"><tr><td>epoch</td><td>▁▁▁▁▂▂▂▂▂▃▃▃▃▃▃▄▄▄▄▄▅▅▅▅▅▅▆▆▆▆▆▇▇▇▇▇▇███</td></tr><tr><td>validation_0-mlogloss</td><td>█▅▃▂▁▁▁▁▁▁▁▁▁▁▁▁▁▁▁▁▁▁▁▁▁▁▁▁▁▁▁▁▁▁▁▁▁▁▁▁</td></tr></table><br/></div><div class=\"wandb-col\"><h3>Run summary:</h3><br/><table class=\"wandb\"><tr><td>epoch</td><td>99</td></tr></table><br/></div></div>"
      ],
      "text/plain": [
       "<IPython.core.display.HTML object>"
      ]
     },
     "metadata": {},
     "output_type": "display_data"
    },
    {
     "data": {
      "text/html": [
       "Synced <strong style=\"color:#cdcd00\">fresh-valley-12</strong>: <a href=\"https://wandb.ai/hanlyang/kaggle_obesity/runs/3r4rasf0\" target=\"_blank\">https://wandb.ai/hanlyang/kaggle_obesity/runs/3r4rasf0</a><br/>Synced 5 W&B file(s), 1 media file(s), 1 artifact file(s) and 0 other file(s)"
      ],
      "text/plain": [
       "<IPython.core.display.HTML object>"
      ]
     },
     "metadata": {},
     "output_type": "display_data"
    },
    {
     "data": {
      "text/html": [
       "Find logs at: <code>.\\wandb\\run-20240721_170121-3r4rasf0\\logs</code>"
      ],
      "text/plain": [
       "<IPython.core.display.HTML object>"
      ]
     },
     "metadata": {},
     "output_type": "display_data"
    }
   ],
   "source": [
    "wandb.finish()"
   ]
  },
  {
   "cell_type": "markdown",
   "metadata": {},
   "source": [
    "<font color=yellow>\n",
    "6. 예측 결과 분석\n",
    "</font>"
   ]
  },
  {
   "cell_type": "code",
   "execution_count": 72,
   "metadata": {},
   "outputs": [],
   "source": [
    "# confusion matrix, 정확도, 정밀도, 재현율, F1 불러오기\n",
    "def get_clf_eval(y_test, y_pred):\n",
    "    confusion = confusion_matrix(y_test, y_pred)\n",
    "    report = classification_report(y_test, y_pred)\n",
    "\n",
    "    print('Confusion matrix:\\n', confusion)\n",
    "    print('Classification report:\\n', report)"
   ]
  },
  {
   "cell_type": "code",
   "execution_count": 73,
   "metadata": {},
   "outputs": [
    {
     "name": "stdout",
     "output_type": "stream",
     "text": [
      "Confusion matrix:\n",
      " [[483  36   0   0   0   4   1]\n",
      " [ 28 550   1   0   0  44   3]\n",
      " [  2   2 448  18   6  15  52]\n",
      " [  0   0  16 629   7   0   5]\n",
      " [  0   0   4  17 783   0   0]\n",
      " [  1  46  12   0   0 357  68]\n",
      " [  0  10  41   6   0  67 390]]\n",
      "Classification report:\n",
      "               precision    recall  f1-score   support\n",
      "\n",
      "           0       0.94      0.92      0.93       524\n",
      "           1       0.85      0.88      0.87       626\n",
      "           2       0.86      0.83      0.84       543\n",
      "           3       0.94      0.96      0.95       657\n",
      "           4       0.98      0.97      0.98       804\n",
      "           5       0.73      0.74      0.74       484\n",
      "           6       0.75      0.76      0.76       514\n",
      "\n",
      "    accuracy                           0.88      4152\n",
      "   macro avg       0.87      0.86      0.87      4152\n",
      "weighted avg       0.88      0.88      0.88      4152\n",
      "\n"
     ]
    }
   ],
   "source": [
    "get_clf_eval(y_test, y_pred)"
   ]
  },
  {
   "cell_type": "code",
   "execution_count": 74,
   "metadata": {},
   "outputs": [
    {
     "data": {
      "text/plain": [
       "<AxesSubplot:title={'center':'Feature importance'}, xlabel='F score', ylabel='Features'>"
      ]
     },
     "execution_count": 74,
     "metadata": {},
     "output_type": "execute_result"
    },
    {
     "data": {
      "image/png": "[encoded data removed]",
      "text/plain": [
       "<Figure size 1000x1200 with 1 Axes>"
      ]
     },
     "metadata": {},
     "output_type": "display_data"
    }
   ],
   "source": [
    "# Feature importance 출력\n",
    "%matplotlib inline\n",
    "\n",
    "fig, ax = plt.subplots(figsize=(10, 12))\n",
    "plot_importance(xgb_model, ax=ax)"
   ]
  },
  {
   "cell_type": "markdown",
   "metadata": {},
   "source": [
    "<font color=yellow>\n",
    "7. Test 예측 결과 생성\n",
    "</font>"
   ]
  },
  {
   "cell_type": "code",
   "execution_count": 75,
   "metadata": {},
   "outputs": [
    {
     "name": "stdout",
     "output_type": "stream",
     "text": [
      "      id     NObeyesdad\n",
      "0  20758  Normal_Weight\n",
      "1  20759  Normal_Weight\n",
      "2  20760  Normal_Weight\n",
      "3  20761  Normal_Weight\n",
      "4  20762  Normal_Weight\n"
     ]
    }
   ],
   "source": [
    "sample = pd.read_csv(os.path.join(cfg.data_path, 'sample_submission.csv'))\n",
    "print(sample.head())"
   ]
  },
  {
   "cell_type": "code",
   "execution_count": 76,
   "metadata": {},
   "outputs": [],
   "source": [
    "# X_sub = df_test.drop(columns=['id'])\n",
    "X_sub = df_test[['Weight', 'Height', 'Age']]\n",
    "\n",
    "# X_sub[cat_attribs] = X_sub[cat_attribs].astype('category')"
   ]
  },
  {
   "cell_type": "code",
   "execution_count": 77,
   "metadata": {},
   "outputs": [
    {
     "name": "stdout",
     "output_type": "stream",
     "text": [
      "['Obesity_Type_II' 'Overweight_Level_I' 'Obesity_Type_III' ...\n",
      " 'Insufficient_Weight' 'Normal_Weight' 'Obesity_Type_II']\n"
     ]
    }
   ],
   "source": [
    "y_pred = xgb_model.predict(X_sub)\n",
    "result = le.inverse_transform(y_pred)\n",
    "print(result)"
   ]
  },
  {
   "cell_type": "code",
   "execution_count": 78,
   "metadata": {},
   "outputs": [],
   "source": [
    "submission = pd.DataFrame({'id': df_test.id, 'NObeyesdad': result})\n",
    "submission.to_csv('submission.csv', index=False)"
   ]
  }
 ],
 "metadata": {
  "kernelspec": {
   "display_name": "Python 3.9.7 ('hanlyang0522')",
   "language": "python",
   "name": "python3"
  },
  "language_info": {
   "codemirror_mode": {
    "name": "ipython",
    "version": 3
   },
   "file_extension": ".py",
   "mimetype": "text/x-python",
   "name": "python",
   "nbconvert_exporter": "python",
   "pygments_lexer": "ipython3",
   "version": "3.9.7"
  },
  "orig_nbformat": 4,
  "vscode": {
   "interpreter": {
    "hash": "b1e6247e017eb8620cd1083925a9cfaa922a58b1c59de55b93296a7df1735295"
   }
  }
 },
 "nbformat": 4,
 "nbformat_minor": 2
}
